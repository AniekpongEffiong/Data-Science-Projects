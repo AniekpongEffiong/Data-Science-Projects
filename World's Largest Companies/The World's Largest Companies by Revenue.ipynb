{
 "cells": [
  {
   "cell_type": "code",
   "execution_count": null,
   "id": "1f425cc3",
   "metadata": {},
   "outputs": [],
   "source": [
    "# importing all modules\n",
    "from sjvisualizer import DataHandler\n",
    "from sjvisualizer import Canvas\n",
    "from sjvisualizer import StackedBarChart\n",
    "from sjvisualizer import UpdatedBarRace\n",
    "from sjvisualizer import PieRace\n",
    "from sjvisualizer import StaticText\n",
    "from sjvisualizer import Date\n",
    "from sjvisualizer import Total\n",
    "from sjvisualizer import StaticImage\n",
    "import json"
   ]
  },
  {
   "cell_type": "code",
   "execution_count": null,
   "id": "7ffa293e",
   "metadata": {},
   "outputs": [],
   "source": [
    "# define constants\n",
    "FPS = 60\n",
    "DURATION = 1.50\n",
    "BACKGROUND_COLOR = (250, 250, 250)\n",
    "TOTAL_COLOR = (6,37,93)\n",
    "FONT_COLOR = (14,45,101)\n",
    "BAR_COLOR = (255,255,255)\n",
    "STACK_COLOR = (104,55,246)\n",
    "DATE_COLOR = (10, 59, 128)\n",
    "GREY_COLOR = (163, 167, 181)\n",
    "number_of_frames=FPS*DURATION*60"
   ]
  },
  {
   "cell_type": "code",
   "execution_count": null,
   "id": "e95626b0",
   "metadata": {},
   "outputs": [],
   "source": [
    "# load the data from the excel file\n",
    "df = DataHandler.DataHandler(excel_file=\"data/Companies.xlsx\", number_of_frames=number_of_frames).df"
   ]
  },
  {
   "cell_type": "code",
   "execution_count": null,
   "id": "829b7a1e",
   "metadata": {},
   "outputs": [],
   "source": [
    "# loading colors\n",
    "with open(\"colors.json\") as f:\n",
    "    colors = json.load(f)"
   ]
  },
  {
   "cell_type": "code",
   "execution_count": null,
   "id": "7cd051a2",
   "metadata": {},
   "outputs": [],
   "source": [
    "# creating the canvas to which we want to draw all elements\n",
    "canvas = Canvas.canvas(bg=BACKGROUND_COLOR)"
   ]
  },
  {
   "cell_type": "code",
   "execution_count": null,
   "id": "6abd6596",
   "metadata": {},
   "outputs": [],
   "source": [
    "# drawing a rectangle around working area\n",
    "canvas.canvas.create_rectangle(-1,-1,1771,1771)"
   ]
  },
  {
   "cell_type": "code",
   "execution_count": null,
   "id": "2cbd7c21",
   "metadata": {
    "scrolled": true
   },
   "outputs": [],
   "source": [
    "# creating the bar race\n",
    "bar_race = UpdatedBarRace.bar_race(canvas=canvas.canvas, df=df, colors=colors, width=560, height=630, x_pos=707, y_pos=250, shift=700, decimal_places = 0, font_color=DATE_COLOR, number_of_bars=10)\n",
    "canvas.add_sub_plot(bar_race)"
   ]
  },
  {
   "cell_type": "code",
   "execution_count": null,
   "id": "e094909d",
   "metadata": {},
   "outputs": [],
   "source": [
    "# creating the stacked bar chart\n",
    "stacked = StackedBarChart.stacked_bar_chart(canvas=canvas.canvas, df=df, x_pos=1180, y_pos=865, width=145, height=140, font_color=BACKGROUND_COLOR, number_of_bars=6.5,root=canvas.tk,on_top=False)\n",
    "canvas.add_sub_plot(stacked)"
   ]
  },
  {
   "cell_type": "code",
   "execution_count": null,
   "id": "3358d275",
   "metadata": {},
   "outputs": [],
   "source": [
    "# adding the time indication\n",
    "time = Date.date(df=df, canvas=canvas.canvas, time_indicator=\"year\", x_pos=1100, y_pos=988, height=50, width=0, font_color=STACK_COLOR)\n",
    "canvas.add_sub_plot(time)"
   ]
  },
  {
   "cell_type": "code",
   "execution_count": null,
   "id": "4b2e7e4d",
   "metadata": {},
   "outputs": [],
   "source": [
    "# adding a layer bar to the canvas\n",
    "img = StaticImage.static_image(canvas=canvas.canvas, file=\"assets/Companies.png\",x_pos=405, y_pos=5, height=1070, width=1100,root=canvas.tk,on_top=False)\n",
    "canvas.add_sub_plot(img)"
   ]
  },
  {
   "cell_type": "code",
   "execution_count": null,
   "id": "3b91ea0f",
   "metadata": {},
   "outputs": [],
   "source": [
    "# starting the animation\n",
    "canvas.play(fps=FPS)"
   ]
  }
 ],
 "metadata": {
  "kernelspec": {
   "display_name": "Python 3 (ipykernel)",
   "language": "python",
   "name": "python3"
  },
  "language_info": {
   "codemirror_mode": {
    "name": "ipython",
    "version": 3
   },
   "file_extension": ".py",
   "mimetype": "text/x-python",
   "name": "python",
   "nbconvert_exporter": "python",
   "pygments_lexer": "ipython3",
   "version": "3.11.3"
  }
 },
 "nbformat": 4,
 "nbformat_minor": 5
}
