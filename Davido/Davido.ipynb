{
 "cells": [
  {
   "cell_type": "code",
   "execution_count": null,
   "id": "1f425cc3",
   "metadata": {},
   "outputs": [],
   "source": [
    "# importing all modules\n",
    "from sjvisualizer import DataHandler\n",
    "from sjvisualizer import Canvas\n",
    "from sjvisualizer import StackedBarChart\n",
    "from sjvisualizer import BarRace\n",
    "from sjvisualizer import PieRace\n",
    "from sjvisualizer import StaticText\n",
    "from sjvisualizer import Date\n",
    "from sjvisualizer import StaticImage, Total\n",
    "import json"
   ]
  },
  {
   "cell_type": "code",
   "execution_count": null,
   "id": "7ffa293e",
   "metadata": {},
   "outputs": [],
   "source": [
    "# define constants\n",
    "FPS = 70\n",
    "DURATION = 0.25\n",
    "BACKGROUND_COLOR = (4, 23, 38)\n",
    "TITLE_COLOR = (238,177,132)\n",
    "FONT_COLOR = (0,0,0)\n",
    "BAR_COLOR = (255,255,255)\n",
    "TITTLE_COLOR = (0,225,194)\n",
    "number_of_frames=FPS*DURATION*70"
   ]
  },
  {
   "cell_type": "code",
   "execution_count": null,
   "id": "e95626b0",
   "metadata": {},
   "outputs": [],
   "source": [
    "# load the data from the excel file\n",
    "df = DataHandler.DataHandler(excel_file=\"data/Davido.xlsx\", number_of_frames=number_of_frames).df"
   ]
  },
  {
   "cell_type": "code",
   "execution_count": null,
   "id": "888e2af2",
   "metadata": {},
   "outputs": [],
   "source": [
    "# load the data from the excel file\n",
    "df2 = DataHandler.DataHandler(excel_file=\"data/Davido2.xlsx\", number_of_frames=number_of_frames).df"
   ]
  },
  {
   "cell_type": "code",
   "execution_count": null,
   "id": "829b7a1e",
   "metadata": {},
   "outputs": [],
   "source": [
    "# loading colors\n",
    "with open(\"colors.json\") as f:\n",
    "    colors = json.load(f)"
   ]
  },
  {
   "cell_type": "code",
   "execution_count": null,
   "id": "7cd051a2",
   "metadata": {},
   "outputs": [],
   "source": [
    "# creating the canvas to which we want to draw all elements\n",
    "canvas = Canvas.canvas(bg=BACKGROUND_COLOR)"
   ]
  },
  {
   "cell_type": "code",
   "execution_count": null,
   "id": "6abd6596",
   "metadata": {},
   "outputs": [],
   "source": [
    "# drawing a rectangle around working area\n",
    "canvas.canvas.create_rectangle(-1,-1,1441,1441)"
   ]
  },
  {
   "cell_type": "code",
   "execution_count": null,
   "id": "80d27022",
   "metadata": {},
   "outputs": [],
   "source": [
    "# adding a title logo to the canvas\n",
    "img = StaticImage.static_image(canvas=canvas.canvas, file=\"assets/Spotify.png\",x_pos=280, y_pos=58, height=100, width=130)\n",
    "canvas.add_sub_plot(img)"
   ]
  },
  {
   "cell_type": "code",
   "execution_count": null,
   "id": "d45e08f4",
   "metadata": {},
   "outputs": [],
   "source": [
    "# adding a title bar to the canvas\n",
    "img = StaticImage.static_image(canvas=canvas.canvas, file=\"assets/Title bar.png\",x_pos=200, y_pos=-65, height=400, width=750)\n",
    "canvas.add_sub_plot(img)"
   ]
  },
  {
   "cell_type": "code",
   "execution_count": null,
   "id": "2cbd7c21",
   "metadata": {
    "scrolled": true
   },
   "outputs": [],
   "source": [
    "# creating the bar race\n",
    "bar_race = BarRace.bar_race(canvas=canvas.canvas, df=df, colors=colors, width=600, height=770, x_pos=525, y_pos=210, shift=100, font_color=BAR_COLOR, number_of_bars=12)\n",
    "canvas.add_sub_plot(bar_race)"
   ]
  },
  {
   "cell_type": "code",
   "execution_count": null,
   "id": "57c8e1f2",
   "metadata": {},
   "outputs": [],
   "source": [
    "# creating the stacked bar chart\n",
    "stacked = StackedBarChart.stacked_bar_chart(canvas=canvas.canvas, df=df, colors=colors, x_pos=1050, y_pos=800, width=150, height=100, font_color=BACKGROUND_COLOR, number_of_bars=13)\n",
    "canvas.add_sub_plot(stacked)\n"
   ]
  },
  {
   "cell_type": "code",
   "execution_count": null,
   "id": "eb9fe7d1",
   "metadata": {},
   "outputs": [],
   "source": [
    "# adding the time indication\n",
    "time = Date.date(df=df, canvas=canvas.canvas, time_indicator=\"day\", x_pos=1120, y_pos=950, height=45, width=0, back_ground_color=BAR_COLOR, font_color=BAR_COLOR)\n",
    "canvas.add_sub_plot(time)\n"
   ]
  },
  {
   "cell_type": "code",
   "execution_count": null,
   "id": "9298aa3f",
   "metadata": {},
   "outputs": [],
   "source": [
    "# adding the total\n",
    "t = Total.total(canvas=canvas, df=df2, x_pos=1120, y_pos=600, height=1000, width=500, font_color = BAR_COLOR, prefix = \"Total: \", unit = \" \" )\n",
    "canvas.add_sub_plot(t)"
   ]
  },
  {
   "cell_type": "code",
   "execution_count": null,
   "id": "3b835c89",
   "metadata": {},
   "outputs": [],
   "source": [
    "# adding a Sub_title\n",
    "title = StaticText.static_text(canvas=canvas.canvas, text=\"Million\", x_pos=1120, y_pos=650, height=60, width=0, font_color=BAR_COLOR)\n",
    "canvas.add_sub_plot(title)"
   ]
  },
  {
   "cell_type": "code",
   "execution_count": null,
   "id": "636e28bb",
   "metadata": {},
   "outputs": [],
   "source": [
    "# adding a Sub_title\n",
    "title = StaticText.static_text(canvas=canvas.canvas, text=\"streams\", x_pos=1120, y_pos=700, height=30, width=0, font_color=BAR_COLOR)\n",
    "canvas.add_sub_plot(title)"
   ]
  },
  {
   "cell_type": "code",
   "execution_count": null,
   "id": "2a6700a8",
   "metadata": {},
   "outputs": [],
   "source": [
    "# adding a title\n",
    "title = StaticText.static_text(canvas=canvas.canvas, text=\"The Timeless Album, Davido\", x_pos=850, y_pos=50, height=60, width=0, font_color=TITTLE_COLOR)\n",
    "canvas.add_sub_plot(title)"
   ]
  },
  {
   "cell_type": "code",
   "execution_count": null,
   "id": "55386574",
   "metadata": {},
   "outputs": [],
   "source": [
    "# adding a sub title\n",
    "sub_title = StaticText.static_text(canvas=canvas.canvas, text=\"Total streams on Spotify from released date to 28th May, 2023\", x_pos=870, y_pos=110, height=30, width=0, font_color=BAR_COLOR)\n",
    "canvas.add_sub_plot(sub_title)"
   ]
  },
  {
   "cell_type": "code",
   "execution_count": null,
   "id": "0455397d",
   "metadata": {},
   "outputs": [],
   "source": [
    "# adding a layer bar to the canvas\n",
    "img = StaticImage.static_image(canvas=canvas.canvas, file=\"assets/Timeless.png\",x_pos=210, y_pos=15, height=1044, width=1130,root=canvas.tk,on_top=False)\n",
    "canvas.add_sub_plot(img)"
   ]
  },
  {
   "cell_type": "code",
   "execution_count": null,
   "id": "920f5f24",
   "metadata": {},
   "outputs": [],
   "source": [
    "# adding a sub title\n",
    "sub_title = StaticText.static_text(canvas=canvas.canvas, text=\"Made with: Sjvisualizer\", x_pos=1180, y_pos=1030, height=20, width=0, font_color=TITTLE_COLOR)\n",
    "canvas.add_sub_plot(sub_title)"
   ]
  },
  {
   "cell_type": "code",
   "execution_count": null,
   "id": "fc24e0f0",
   "metadata": {},
   "outputs": [],
   "source": [
    "# adding a sub title\n",
    "sub_title = StaticText.static_text(canvas=canvas.canvas, text=\"Data Source: Spotify, Others\", x_pos=380, y_pos=1030, height=20, width=0, font_color=TITTLE_COLOR)\n",
    "canvas.add_sub_plot(sub_title)"
   ]
  },
  {
   "cell_type": "code",
   "execution_count": null,
   "id": "3b91ea0f",
   "metadata": {},
   "outputs": [],
   "source": [
    "# starting the animation\n",
    "canvas.play(fps=FPS)"
   ]
  }
 ],
 "metadata": {
  "kernelspec": {
   "display_name": "Python 3 (ipykernel)",
   "language": "python",
   "name": "python3"
  },
  "language_info": {
   "codemirror_mode": {
    "name": "ipython",
    "version": 3
   },
   "file_extension": ".py",
   "mimetype": "text/x-python",
   "name": "python",
   "nbconvert_exporter": "python",
   "pygments_lexer": "ipython3",
   "version": "3.11.3"
  }
 },
 "nbformat": 4,
 "nbformat_minor": 5
}
