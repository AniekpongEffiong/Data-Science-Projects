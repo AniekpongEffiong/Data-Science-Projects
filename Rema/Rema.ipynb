{
 "cells": [
  {
   "cell_type": "code",
   "execution_count": null,
   "id": "1f425cc3",
   "metadata": {},
   "outputs": [],
   "source": [
    "# importing all modules\n",
    "from sjvisualizer import DataHandler\n",
    "from sjvisualizer import Canvas\n",
    "from sjvisualizer import UpdatedStackedBarChart, StackedBarChart\n",
    "from sjvisualizer import StaticText\n",
    "from sjvisualizer import Date\n",
    "from sjvisualizer import Total\n",
    "from sjvisualizer import StaticImage\n",
    "import json"
   ]
  },
  {
   "cell_type": "code",
   "execution_count": null,
   "id": "7ffa293e",
   "metadata": {},
   "outputs": [],
   "source": [
    "# define constants\n",
    "FPS = 80\n",
    "DURATION = 0.25\n",
    "BACKGROUND_COLOR = (0,0,0)\n",
    "TOTAL_COLOR = (120,130,156)\n",
    "FONT_COLOR = (0,0,0)\n",
    "BAR_COLOR = (255,255,255)\n",
    "STACK_COLOR = (158,62,37)\n",
    "YEAR_COLOR = (243, 132, 31)\n",
    "GREY_COLOR = (163, 167, 181)\n",
    "number_of_frames=FPS*DURATION*80"
   ]
  },
  {
   "cell_type": "code",
   "execution_count": null,
   "id": "e95626b0",
   "metadata": {},
   "outputs": [],
   "source": [
    "# load the data from the excel file\n",
    "df = DataHandler.DataHandler(excel_file=\"data/Networth.xlsx\", number_of_frames=number_of_frames).df"
   ]
  },
  {
   "cell_type": "code",
   "execution_count": null,
   "id": "9f7e2898",
   "metadata": {},
   "outputs": [],
   "source": [
    "# load the data from the excel file\n",
    "df2 = DataHandler.DataHandler(excel_file=\"data/Spotify.xlsx\", number_of_frames=number_of_frames).df"
   ]
  },
  {
   "cell_type": "code",
   "execution_count": null,
   "id": "e7b9bbec",
   "metadata": {},
   "outputs": [],
   "source": [
    "# load the data from the excel file\n",
    "df3 = DataHandler.DataHandler(excel_file=\"data/Subscribers.xlsx\", number_of_frames=number_of_frames).df"
   ]
  },
  {
   "cell_type": "code",
   "execution_count": null,
   "id": "faa99438",
   "metadata": {},
   "outputs": [],
   "source": [
    "# load the data from the excel file\n",
    "df4 = DataHandler.DataHandler(excel_file=\"data/Totalviews.xlsx\", number_of_frames=number_of_frames).df"
   ]
  },
  {
   "cell_type": "code",
   "execution_count": null,
   "id": "829b7a1e",
   "metadata": {},
   "outputs": [],
   "source": [
    "# loading colors\n",
    "with open(\"colors.json\") as f:\n",
    "    colors = json.load(f)"
   ]
  },
  {
   "cell_type": "code",
   "execution_count": null,
   "id": "7cd051a2",
   "metadata": {},
   "outputs": [],
   "source": [
    "# creating the canvas to which we want to draw all elements\n",
    "canvas = Canvas.canvas(bg=BACKGROUND_COLOR)"
   ]
  },
  {
   "cell_type": "code",
   "execution_count": null,
   "id": "6abd6596",
   "metadata": {},
   "outputs": [],
   "source": [
    "# drawing a rectangle around working area\n",
    "canvas.canvas.create_rectangle(-1,-1,1771,1771)"
   ]
  },
  {
   "cell_type": "code",
   "execution_count": null,
   "id": "8120e454",
   "metadata": {},
   "outputs": [],
   "source": [
    "# creating the stacked bar chart\n",
    "stacked = StackedBarChart.stacked_bar_chart(canvas=canvas.canvas, df=df, x_pos=1145, y_pos=868, width=130, height=80, font_color=STACK_COLOR, number_of_bars=5,root=canvas.tk,on_top=False)\n",
    "canvas.add_sub_plot(stacked)"
   ]
  },
  {
   "cell_type": "code",
   "execution_count": null,
   "id": "3358d275",
   "metadata": {},
   "outputs": [],
   "source": [
    "# adding the time indication\n",
    "time = Date.date(df=df, canvas=canvas.canvas, time_indicator=\"year\", x_pos=1220, y_pos=962, height=42, width=0, font_color=YEAR_COLOR)\n",
    "canvas.add_sub_plot(time)"
   ]
  },
  {
   "cell_type": "code",
   "execution_count": null,
   "id": "ccbc1a75",
   "metadata": {},
   "outputs": [],
   "source": [
    "# adding the total\n",
    "Networth = Total.total(canvas=canvas, df=df, x_pos=760, y_pos=380, height=1000, width=200, font_color = FONT_COLOR, prefix = \"$\", unit = \" USD\" )\n",
    "canvas.add_sub_plot(Networth)"
   ]
  },
  {
   "cell_type": "code",
   "execution_count": null,
   "id": "e7fe28e2",
   "metadata": {},
   "outputs": [],
   "source": [
    "# adding the total\n",
    "Spotify = Total.total(canvas=canvas, df=df2, x_pos=690, y_pos=536, height=750, width=200, font_color = FONT_COLOR, prefix = \" \", unit = \" \" )\n",
    "canvas.add_sub_plot(Spotify)"
   ]
  },
  {
   "cell_type": "code",
   "execution_count": null,
   "id": "dfa67a9b",
   "metadata": {},
   "outputs": [],
   "source": [
    "# adding the total\n",
    "Subcribers = Total.total(canvas=canvas, df=df3, x_pos=800, y_pos=770, height=650, width=200, font_color = FONT_COLOR, prefix = \" \", unit = \" \" )\n",
    "canvas.add_sub_plot(Subcribers)"
   ]
  },
  {
   "cell_type": "code",
   "execution_count": null,
   "id": "e9a34529",
   "metadata": {},
   "outputs": [],
   "source": [
    "# adding the total\n",
    "Totalviews = Total.total(canvas=canvas, df=df4, x_pos=800, y_pos=820, height=650, width=200, font_color = FONT_COLOR, prefix = \" \", unit = \" \" )\n",
    "canvas.add_sub_plot(Totalviews)"
   ]
  },
  {
   "cell_type": "code",
   "execution_count": null,
   "id": "4b2e7e4d",
   "metadata": {},
   "outputs": [],
   "source": [
    "# adding a layer bar to the canvas\n",
    "img = StaticImage.static_image(canvas=canvas.canvas, file=\"assets/Rema.png\",x_pos=405, y_pos=5, height=1065, width=1050,root=canvas.tk,on_top=False)\n",
    "canvas.add_sub_plot(img)"
   ]
  },
  {
   "cell_type": "code",
   "execution_count": null,
   "id": "3b91ea0f",
   "metadata": {},
   "outputs": [],
   "source": [
    "# starting the animation\n",
    "canvas.play(fps=FPS)"
   ]
  }
 ],
 "metadata": {
  "kernelspec": {
   "display_name": "Python 3 (ipykernel)",
   "language": "python",
   "name": "python3"
  },
  "language_info": {
   "codemirror_mode": {
    "name": "ipython",
    "version": 3
   },
   "file_extension": ".py",
   "mimetype": "text/x-python",
   "name": "python",
   "nbconvert_exporter": "python",
   "pygments_lexer": "ipython3",
   "version": "3.11.3"
  }
 },
 "nbformat": 4,
 "nbformat_minor": 5
}
