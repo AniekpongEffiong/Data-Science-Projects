{
 "cells": [
  {
   "cell_type": "code",
   "execution_count": null,
   "id": "1f425cc3",
   "metadata": {},
   "outputs": [],
   "source": [
    "# importing all modules\n",
    "from sjvisualizer import DataHandler\n",
    "from sjvisualizer import Canvas\n",
    "from sjvisualizer import StackedBarChart\n",
    "from sjvisualizer import BarRace\n",
    "from sjvisualizer import ColumnRace\n",
    "from sjvisualizer import PieRace\n",
    "from sjvisualizer import StaticText\n",
    "from sjvisualizer import Date\n",
    "from sjvisualizer import StaticImage\n",
    "import json"
   ]
  },
  {
   "cell_type": "code",
   "execution_count": null,
   "id": "7ffa293e",
   "metadata": {},
   "outputs": [],
   "source": [
    "# define constants\n",
    "FPS = 80\n",
    "DURATION = 0.25\n",
    "BACKGROUND_COLOR = (0, 0, 0)\n",
    "FONT_COLOR = (0, 0, 0)\n",
    "BASE_COLOR = (250,248,248)\n",
    "TITLE_COLOR = (161,162,167)\n",
    "BAR_COLOR = (254,254,254)\n",
    "YEAR_COLOR = (250,248,248)\n",
    "PIE_COLOR = (215, 216, 216)"
   ]
  },
  {
   "cell_type": "code",
   "execution_count": null,
   "id": "e95626b0",
   "metadata": {},
   "outputs": [],
   "source": [
    "# load the data from the excel file\n",
    "df = DataHandler.DataHandler(excel_file=\"data/LNG.xlsx\", number_of_frames=FPS*DURATION*80).df"
   ]
  },
  {
   "cell_type": "code",
   "execution_count": null,
   "id": "829b7a1e",
   "metadata": {},
   "outputs": [],
   "source": [
    "# loading colors\n",
    "with open(\"colors.json\") as f:\n",
    "    colors = json.load(f)"
   ]
  },
  {
   "cell_type": "code",
   "execution_count": null,
   "id": "7cd051a2",
   "metadata": {},
   "outputs": [],
   "source": [
    "# creating the canvas to which we want to draw all elements\n",
    "canvas = Canvas.canvas(bg=BASE_COLOR)"
   ]
  },
  {
   "cell_type": "code",
   "execution_count": null,
   "id": "6abd6596",
   "metadata": {},
   "outputs": [],
   "source": [
    "# drawing a rectangle around working area\n",
    "canvas.canvas.create_rectangle(-1,-1,1441,1441)"
   ]
  },
  {
   "cell_type": "code",
   "execution_count": null,
   "id": "84a02160",
   "metadata": {},
   "outputs": [],
   "source": [
    "# adding the time indication\n",
    "time = Date.date(df=df, canvas=canvas.canvas, time_indicator=\"year\", x_pos=1165, y_pos=800, height=70, width=0, back_ground_color=BAR_COLOR, font_color=FONT_COLOR)\n",
    "canvas.add_sub_plot(time)"
   ]
  },
  {
   "cell_type": "code",
   "execution_count": null,
   "id": "02ed5622",
   "metadata": {},
   "outputs": [],
   "source": [
    "# creating the bar race\n",
    "bar_race = BarRace.bar_race(canvas=canvas.canvas, df=df, colors=colors, width=670, height=450, x_pos=490, y_pos=545, shift=600, font_color=FONT_COLOR, number_of_bars=8)\n",
    "canvas.add_sub_plot(bar_race)"
   ]
  },
  {
   "cell_type": "code",
   "execution_count": null,
   "id": "b22a6cc0",
   "metadata": {},
   "outputs": [],
   "source": [
    "# creating the stacked bar chart\n",
    "stacked = StackedBarChart.stacked_bar_chart(canvas=canvas.canvas, df=df, colors=colors, x_pos=700, y_pos=200, width=450, height=250, font_color=FONT_COLOR, number_of_bars=14)\n",
    "canvas.add_sub_plot(stacked)"
   ]
  },
  {
   "cell_type": "code",
   "execution_count": null,
   "id": "2a6700a8",
   "metadata": {},
   "outputs": [],
   "source": [
    "# adding a title\n",
    "title = StaticText.static_text(canvas=canvas.canvas, text=\"The Biggest Liquefied Natural Gas Exporters\", x_pos=850, y_pos=35, height=45, width=0, font_color=FONT_COLOR)\n",
    "canvas.add_sub_plot(title)"
   ]
  },
  {
   "cell_type": "code",
   "execution_count": null,
   "id": "55386574",
   "metadata": {},
   "outputs": [],
   "source": [
    "# adding a sub title\n",
    "sub_title = StaticText.static_text(canvas=canvas.canvas, text=\"From 2000 - 2022, LNG Export by Country in cubic meters\", x_pos=850, y_pos=95, height=30, width=0, font_color=TITLE_COLOR)\n",
    "canvas.add_sub_plot(sub_title)"
   ]
  },
  {
   "cell_type": "code",
   "execution_count": null,
   "id": "0455397d",
   "metadata": {},
   "outputs": [],
   "source": [
    "# adding a layer bar to the canvas\n",
    "img = StaticImage.static_image(canvas=canvas.canvas, file=\"assets/Pipeline.png\",x_pos=270, y_pos=10, height=1060, width=1170,root=canvas.tk,on_top=False)\n",
    "canvas.add_sub_plot(img)"
   ]
  },
  {
   "cell_type": "code",
   "execution_count": null,
   "id": "f9449363",
   "metadata": {},
   "outputs": [],
   "source": [
    "# adding a sub title\n",
    "sub_title = StaticText.static_text(canvas=canvas.canvas, text=\"Data Source: Energy Institute, Statistical Review of World Energy\", x_pos=702, y_pos=1045, height=20, width=0, font_color=FONT_COLOR)\n",
    "canvas.add_sub_plot(sub_title)"
   ]
  },
  {
   "cell_type": "code",
   "execution_count": null,
   "id": "02c40e9f",
   "metadata": {},
   "outputs": [],
   "source": [
    "# adding a sub title\n",
    "sub_title = StaticText.static_text(canvas=canvas.canvas, text=\"aniekpong D.E. X SJvisualizer\", x_pos=1160, y_pos=1045, height=20, width=0, font_color=FONT_COLOR)\n",
    "canvas.add_sub_plot(sub_title)"
   ]
  },
  {
   "cell_type": "code",
   "execution_count": null,
   "id": "3b91ea0f",
   "metadata": {},
   "outputs": [],
   "source": [
    "# starting the animation\n",
    "canvas.play(fps=FPS)"
   ]
  }
 ],
 "metadata": {
  "kernelspec": {
   "display_name": "Python 3 (ipykernel)",
   "language": "python",
   "name": "python3"
  },
  "language_info": {
   "codemirror_mode": {
    "name": "ipython",
    "version": 3
   },
   "file_extension": ".py",
   "mimetype": "text/x-python",
   "name": "python",
   "nbconvert_exporter": "python",
   "pygments_lexer": "ipython3",
   "version": "3.11.3"
  }
 },
 "nbformat": 4,
 "nbformat_minor": 5
}
