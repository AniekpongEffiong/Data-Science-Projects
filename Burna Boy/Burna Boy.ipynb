{
 "cells": [
  {
   "cell_type": "code",
   "execution_count": null,
   "id": "1f425cc3",
   "metadata": {},
   "outputs": [],
   "source": [
    "# importing all modules\n",
    "from sjvisualizer import DataHandler\n",
    "from sjvisualizer import Canvas\n",
    "from sjvisualizer import StackedBarChart\n",
    "from sjvisualizer import BarRace\n",
    "from sjvisualizer import StaticText\n",
    "from sjvisualizer import Date\n",
    "from sjvisualizer import StaticImage\n",
    "from sjvisualizer import Total\n",
    "import json"
   ]
  },
  {
   "cell_type": "code",
   "execution_count": null,
   "id": "7ffa293e",
   "metadata": {},
   "outputs": [],
   "source": [
    "# define constants\n",
    "FPS = 70\n",
    "DURATION = 0.25\n",
    "BACKGROUND_COLOR = (0, 0, 0)\n",
    "FONT_COLOR = (1,152,221)\n",
    "BAR_COLOR = (255,255,255)\n",
    "SPOTIFY_COLOR = (4,166,83)"
   ]
  },
  {
   "cell_type": "code",
   "execution_count": null,
   "id": "e95626b0",
   "metadata": {},
   "outputs": [],
   "source": [
    "# load the data from the excel file\n",
    "df = DataHandler.DataHandler(excel_file=\"data/Burna Boy.xlsx\", number_of_frames=FPS*DURATION*70).df"
   ]
  },
  {
   "cell_type": "code",
   "execution_count": null,
   "id": "e29cdf40",
   "metadata": {},
   "outputs": [],
   "source": [
    "# load the data from the excel file\n",
    "df2 = DataHandler.DataHandler(excel_file=\"data/Total.xlsx\", number_of_frames=FPS*DURATION*70).df"
   ]
  },
  {
   "cell_type": "code",
   "execution_count": null,
   "id": "829b7a1e",
   "metadata": {},
   "outputs": [],
   "source": [
    "# loading colors\n",
    "with open(\"colors.json\") as f:\n",
    "    colors = json.load(f)"
   ]
  },
  {
   "cell_type": "code",
   "execution_count": null,
   "id": "7cd051a2",
   "metadata": {},
   "outputs": [],
   "source": [
    "# creating the canvas to which we want to draw all elements\n",
    "canvas = Canvas.canvas(bg=BACKGROUND_COLOR)"
   ]
  },
  {
   "cell_type": "code",
   "execution_count": null,
   "id": "6abd6596",
   "metadata": {},
   "outputs": [],
   "source": [
    "# drawing a rectangle around working area\n",
    "canvas.canvas.create_rectangle(-1,-1,1441,1441)"
   ]
  },
  {
   "cell_type": "code",
   "execution_count": null,
   "id": "b1dafd3c",
   "metadata": {},
   "outputs": [],
   "source": [
    "# creating the bar race\n",
    "bar_race = BarRace.bar_race(canvas=canvas.canvas, df=df, colors=colors, width=600, height=400, x_pos=525, y_pos=595, shift=500, font_color=FONT_COLOR, number_of_bars=7)\n",
    "canvas.add_sub_plot(bar_race)"
   ]
  },
  {
   "cell_type": "code",
   "execution_count": null,
   "id": "57c8e1f2",
   "metadata": {},
   "outputs": [],
   "source": [
    "# creating the stacked bar chart\n",
    "stacked = StackedBarChart.stacked_bar_chart(canvas=canvas.canvas, df=df, colors=colors, x_pos=1050, y_pos=785, width=150, height=200, font_color=BACKGROUND_COLOR, number_of_bars=7)\n",
    "canvas.add_sub_plot(stacked)\n"
   ]
  },
  {
   "cell_type": "code",
   "execution_count": null,
   "id": "3358d275",
   "metadata": {},
   "outputs": [],
   "source": [
    "# adding the time indication\n",
    "time = Date.date(df=df, canvas=canvas.canvas, time_indicator=\"day\", x_pos=400, y_pos=370, height=55, width=0, back_ground_color=BAR_COLOR, font_color=BAR_COLOR)\n",
    "canvas.add_sub_plot(time)"
   ]
  },
  {
   "cell_type": "code",
   "execution_count": null,
   "id": "68589f49",
   "metadata": {},
   "outputs": [],
   "source": [
    "# adding the total\n",
    "t = Total.total(canvas=canvas, df=df, x_pos=1150, y_pos=400, height=1000, width=200, font_color = BAR_COLOR, prefix = \" \", unit = \" \" )\n",
    "canvas.add_sub_plot(t)"
   ]
  },
  {
   "cell_type": "code",
   "execution_count": null,
   "id": "be472f55",
   "metadata": {},
   "outputs": [],
   "source": [
    "# adding a sub title\n",
    "sub_title = StaticText.static_text(canvas=canvas.canvas, text=\"Date\", x_pos=390, y_pos=430, height=40, width=0, font_color=FONT_COLOR)\n",
    "canvas.add_sub_plot(sub_title)"
   ]
  },
  {
   "cell_type": "code",
   "execution_count": null,
   "id": "9fecd278",
   "metadata": {},
   "outputs": [],
   "source": [
    "# adding a sub title\n",
    "sub_title = StaticText.static_text(canvas=canvas.canvas, text=\"Streamed\", x_pos=390, y_pos=470, height=40, width=0, font_color=FONT_COLOR)\n",
    "canvas.add_sub_plot(sub_title)"
   ]
  },
  {
   "cell_type": "code",
   "execution_count": null,
   "id": "d9f9e133",
   "metadata": {},
   "outputs": [],
   "source": [
    "# adding a sub title\n",
    "sub_title = StaticText.static_text(canvas=canvas.canvas, text=\"Total\", x_pos=1150, y_pos=430, height=40, width=0, font_color=FONT_COLOR)\n",
    "canvas.add_sub_plot(sub_title)"
   ]
  },
  {
   "cell_type": "code",
   "execution_count": null,
   "id": "f4aed733",
   "metadata": {},
   "outputs": [],
   "source": [
    "# adding a sub title\n",
    "sub_title = StaticText.static_text(canvas=canvas.canvas, text=\"Streams\", x_pos=1150, y_pos=470, height=40, width=0, font_color=FONT_COLOR)\n",
    "canvas.add_sub_plot(sub_title)"
   ]
  },
  {
   "cell_type": "code",
   "execution_count": null,
   "id": "eb1ffa03",
   "metadata": {},
   "outputs": [],
   "source": [
    "# adding a sub title\n",
    "sub_title = StaticText.static_text(canvas=canvas.canvas, text=\"Spotify\", x_pos=420, y_pos=1005, height=30, width=0, font_color=SPOTIFY_COLOR)\n",
    "canvas.add_sub_plot(sub_title)"
   ]
  },
  {
   "cell_type": "code",
   "execution_count": null,
   "id": "022a9e70",
   "metadata": {},
   "outputs": [],
   "source": [
    "# adding a layer bar to the canvas\n",
    "img = StaticImage.static_image(canvas=canvas.canvas, file=\"assets/Spotify.png\",x_pos=310, y_pos=995, height=40, width=40,root=canvas.tk,on_top=False)\n",
    "canvas.add_sub_plot(img)"
   ]
  },
  {
   "cell_type": "code",
   "execution_count": null,
   "id": "74be5b6e",
   "metadata": {},
   "outputs": [],
   "source": [
    "# adding a layer bar to the canvas\n",
    "img = StaticImage.static_image(canvas=canvas.canvas, file=\"assets/SJVisualizer.png\",x_pos=1100, y_pos=1000, height=40, width=40,root=canvas.tk,on_top=False)\n",
    "canvas.add_sub_plot(img)"
   ]
  },
  {
   "cell_type": "code",
   "execution_count": null,
   "id": "0455397d",
   "metadata": {},
   "outputs": [],
   "source": [
    "# adding a layer bar to the canvas\n",
    "img = StaticImage.static_image(canvas=canvas.canvas, file=\"assets/Background3.png\",x_pos=210, y_pos=15, height=1044, width=1130,root=canvas.tk,on_top=False)\n",
    "canvas.add_sub_plot(img)"
   ]
  },
  {
   "cell_type": "code",
   "execution_count": null,
   "id": "3b91ea0f",
   "metadata": {},
   "outputs": [],
   "source": [
    "# starting the animation\n",
    "canvas.play(fps=FPS)"
   ]
  }
 ],
 "metadata": {
  "kernelspec": {
   "display_name": "Python 3 (ipykernel)",
   "language": "python",
   "name": "python3"
  },
  "language_info": {
   "codemirror_mode": {
    "name": "ipython",
    "version": 3
   },
   "file_extension": ".py",
   "mimetype": "text/x-python",
   "name": "python",
   "nbconvert_exporter": "python",
   "pygments_lexer": "ipython3",
   "version": "3.11.3"
  }
 },
 "nbformat": 4,
 "nbformat_minor": 5
}
