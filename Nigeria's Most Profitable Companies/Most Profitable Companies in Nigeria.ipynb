{
 "cells": [
  {
   "cell_type": "code",
   "execution_count": null,
   "id": "1f425cc3",
   "metadata": {},
   "outputs": [],
   "source": [
    "# importing all modules\n",
    "from sjvisualizer import DataHandler\n",
    "from sjvisualizer import Canvas\n",
    "from sjvisualizer import StackedBarChart\n",
    "from sjvisualizer import BarRace\n",
    "from sjvisualizer import PieRace\n",
    "from sjvisualizer import StaticText\n",
    "from sjvisualizer import Date\n",
    "from sjvisualizer import Total\n",
    "from sjvisualizer import StaticImage\n",
    "import json"
   ]
  },
  {
   "cell_type": "code",
   "execution_count": null,
   "id": "7ffa293e",
   "metadata": {},
   "outputs": [],
   "source": [
    "# define constants\n",
    "FPS = 70\n",
    "DURATION = 0.25\n",
    "BACKGROUND_COLOR = (250, 250, 250)\n",
    "TOTAL_COLOR = (6,37,93)\n",
    "FONT_COLOR = (14,45,101)\n",
    "BAR_COLOR = (255,255,255)\n",
    "STACK_COLOR = (250,250,250)\n",
    "DATE_COLOR = (0, 0, 0)\n",
    "GREY_COLOR = (163, 167, 181)\n",
    "number_of_frames=FPS*DURATION*70"
   ]
  },
  {
   "cell_type": "code",
   "execution_count": null,
   "id": "e95626b0",
   "metadata": {},
   "outputs": [],
   "source": [
    "# load the data from the excel file\n",
    "df = DataHandler.DataHandler(excel_file=\"data/Profit.xlsx\", number_of_frames=number_of_frames).df"
   ]
  },
  {
   "cell_type": "code",
   "execution_count": null,
   "id": "d55d15d8",
   "metadata": {},
   "outputs": [],
   "source": [
    "# load the data from the excel file\n",
    "df2 = DataHandler.DataHandler(excel_file=\"data/Banking.xlsx\", number_of_frames=number_of_frames).df"
   ]
  },
  {
   "cell_type": "code",
   "execution_count": null,
   "id": "54311dcf",
   "metadata": {},
   "outputs": [],
   "source": [
    "# load the data from the excel file\n",
    "df3 = DataHandler.DataHandler(excel_file=\"data/Goods.xlsx\", number_of_frames=number_of_frames).df"
   ]
  },
  {
   "cell_type": "code",
   "execution_count": null,
   "id": "f04f4932",
   "metadata": {},
   "outputs": [],
   "source": [
    "# load the data from the excel file\n",
    "df4 = DataHandler.DataHandler(excel_file=\"data/Telecommunications.xlsx\", number_of_frames=number_of_frames).df"
   ]
  },
  {
   "cell_type": "code",
   "execution_count": null,
   "id": "829b7a1e",
   "metadata": {},
   "outputs": [],
   "source": [
    "# loading colors\n",
    "with open(\"colors.json\") as f:\n",
    "    colors = json.load(f)"
   ]
  },
  {
   "cell_type": "code",
   "execution_count": null,
   "id": "7cd051a2",
   "metadata": {},
   "outputs": [],
   "source": [
    "# creating the canvas to which we want to draw all elements\n",
    "canvas = Canvas.canvas(bg=BACKGROUND_COLOR)"
   ]
  },
  {
   "cell_type": "code",
   "execution_count": null,
   "id": "6abd6596",
   "metadata": {},
   "outputs": [],
   "source": [
    "# drawing a rectangle around working area\n",
    "canvas.canvas.create_rectangle(-1,-1,1771,1771)"
   ]
  },
  {
   "cell_type": "code",
   "execution_count": null,
   "id": "2cbd7c21",
   "metadata": {
    "scrolled": true
   },
   "outputs": [],
   "source": [
    "# creating the bar race\n",
    "bar_race = BarRace.bar_race(canvas=canvas.canvas, df=df, draw_in_bar = False, colors=colors, width=560, height=600, x_pos=700, y_pos=250, shift=700, decimal_places = 1, font_color=DATE_COLOR, number_of_bars=10)\n",
    "canvas.add_sub_plot(bar_race)"
   ]
  },
  {
   "cell_type": "code",
   "execution_count": null,
   "id": "fd25a2c0",
   "metadata": {},
   "outputs": [],
   "source": [
    "# creating the stacked bar chart\n",
    "stacked = StackedBarChart.stacked_bar_chart(canvas=canvas.canvas, df=df, x_pos=1173, y_pos=910, width=140, height=80, font_color=GREY_COLOR, number_of_bars=3.5,root=canvas.tk,on_top=False)\n",
    "canvas.add_sub_plot(stacked)"
   ]
  },
  {
   "cell_type": "code",
   "execution_count": null,
   "id": "3358d275",
   "metadata": {},
   "outputs": [],
   "source": [
    "# adding the time indication\n",
    "time = Date.date(df=df, canvas=canvas.canvas, time_indicator=\"month\", x_pos=1220, y_pos=185, height=30, width=0, font_color=DATE_COLOR)\n",
    "canvas.add_sub_plot(time)"
   ]
  },
  {
   "cell_type": "code",
   "execution_count": null,
   "id": "696ffa6f",
   "metadata": {},
   "outputs": [],
   "source": [
    "# adding the total\n",
    "Banking = Total.total(canvas=canvas, df=df2, x_pos=694, y_pos=885, height=550, width=200, font_color = DATE_COLOR, prefix = \" \", unit = \" \" )\n",
    "canvas.add_sub_plot(Banking)"
   ]
  },
  {
   "cell_type": "code",
   "execution_count": null,
   "id": "6de70f30",
   "metadata": {},
   "outputs": [],
   "source": [
    "# adding the total\n",
    "Goods = Total.total(canvas=canvas, df=df3, x_pos=1050, y_pos=885, height=550, width=200, font_color = DATE_COLOR, prefix = \" \", unit = \" \" )\n",
    "canvas.add_sub_plot(Goods)"
   ]
  },
  {
   "cell_type": "code",
   "execution_count": null,
   "id": "98ae847d",
   "metadata": {},
   "outputs": [],
   "source": [
    "# adding the total\n",
    "Telecommunications = Total.total(canvas=canvas, df=df4, x_pos=1305, y_pos=885, height=550, width=200, font_color = DATE_COLOR, prefix = \" \", unit = \" \" )\n",
    "canvas.add_sub_plot(Telecommunications)"
   ]
  },
  {
   "cell_type": "code",
   "execution_count": null,
   "id": "4b2e7e4d",
   "metadata": {},
   "outputs": [],
   "source": [
    "# adding a layer bar to the canvas\n",
    "img = StaticImage.static_image(canvas=canvas.canvas, file=\"assets/Profit.png\",x_pos=405, y_pos=5, height=1070, width=1100,root=canvas.tk,on_top=False)\n",
    "canvas.add_sub_plot(img)"
   ]
  },
  {
   "cell_type": "code",
   "execution_count": null,
   "id": "3b91ea0f",
   "metadata": {},
   "outputs": [],
   "source": [
    "# starting the animation\n",
    "canvas.play(fps=FPS)"
   ]
  }
 ],
 "metadata": {
  "kernelspec": {
   "display_name": "Python 3 (ipykernel)",
   "language": "python",
   "name": "python3"
  },
  "language_info": {
   "codemirror_mode": {
    "name": "ipython",
    "version": 3
   },
   "file_extension": ".py",
   "mimetype": "text/x-python",
   "name": "python",
   "nbconvert_exporter": "python",
   "pygments_lexer": "ipython3",
   "version": "3.11.3"
  }
 },
 "nbformat": 4,
 "nbformat_minor": 5
}
