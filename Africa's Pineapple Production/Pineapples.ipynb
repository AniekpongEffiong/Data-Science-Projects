{
 "cells": [
  {
   "cell_type": "code",
   "execution_count": null,
   "id": "1f425cc3",
   "metadata": {},
   "outputs": [],
   "source": [
    "# importing all modules\n",
    "from sjvisualizer import DataHandler\n",
    "from sjvisualizer import Canvas\n",
    "from sjvisualizer import StackedBarChart\n",
    "from sjvisualizer import RecreateBarRace\n",
    "from sjvisualizer import PieRace\n",
    "from sjvisualizer import StaticText\n",
    "from sjvisualizer import Date\n",
    "from sjvisualizer import Total\n",
    "from sjvisualizer import StaticImage\n",
    "import json"
   ]
  },
  {
   "cell_type": "code",
   "execution_count": null,
   "id": "7ffa293e",
   "metadata": {},
   "outputs": [],
   "source": [
    "# define constants\n",
    "FPS = 70\n",
    "DURATION = 0.25\n",
    "BACKGROUND_COLOR = (255, 255, 255)\n",
    "TITLE_COLOR = (238,177,132)\n",
    "FONT_COLOR = (0,0,0)\n",
    "BAR_COLOR = (255,255,255)\n",
    "TITTLE_COLOR = (0,225,194)\n",
    "PIE_COLOR = (215, 216, 216)"
   ]
  },
  {
   "cell_type": "code",
   "execution_count": null,
   "id": "e95626b0",
   "metadata": {},
   "outputs": [],
   "source": [
    "# load the data from the excel file\n",
    "df = DataHandler.DataHandler(excel_file=\"data/Pineapples.xlsx\", number_of_frames=FPS*DURATION*70).df"
   ]
  },
  {
   "cell_type": "code",
   "execution_count": null,
   "id": "829b7a1e",
   "metadata": {},
   "outputs": [],
   "source": [
    "# loading colors\n",
    "with open(\"colors.json\") as f:\n",
    "    colors = json.load(f)"
   ]
  },
  {
   "cell_type": "code",
   "execution_count": null,
   "id": "7cd051a2",
   "metadata": {},
   "outputs": [],
   "source": [
    "# creating the canvas to which we want to draw all elements\n",
    "canvas = Canvas.canvas(bg=BACKGROUND_COLOR)"
   ]
  },
  {
   "cell_type": "code",
   "execution_count": null,
   "id": "6abd6596",
   "metadata": {},
   "outputs": [],
   "source": [
    "# drawing a rectangle around working area\n",
    "canvas.canvas.create_rectangle(-1,-1,1771,1771)"
   ]
  },
  {
   "cell_type": "code",
   "execution_count": null,
   "id": "2cbd7c21",
   "metadata": {
    "scrolled": true
   },
   "outputs": [],
   "source": [
    "# creating the bar race\n",
    "bar_race = RecreateBarRace.bar_race(canvas=canvas.canvas, df=df, colors=colors, width=600, height=770, x_pos=600, y_pos=200, shift=200, font_color=FONT_COLOR, number_of_bars=12)\n",
    "canvas.add_sub_plot(bar_race)"
   ]
  },
  {
   "cell_type": "code",
   "execution_count": null,
   "id": "450109ef",
   "metadata": {},
   "outputs": [],
   "source": [
    "# adding an additional chart type\n",
    "pie_race = PieRace.pie_plot(canvas=canvas.canvas, df=df, colors=colors, back_ground_color=BACKGROUND_COLOR, font_color=FONT_COLOR, width=350, height=350, x_pos=1000, y_pos=500)\n",
    "canvas.add_sub_plot(pie_race)"
   ]
  },
  {
   "cell_type": "code",
   "execution_count": null,
   "id": "3358d275",
   "metadata": {},
   "outputs": [],
   "source": [
    "# adding the time indication\n",
    "time = Date.date(df=df, canvas=canvas.canvas, time_indicator=\"year\", x_pos=1175, y_pos=900, height=80, width=0, back_ground_color=BAR_COLOR, font_color=FONT_COLOR)\n",
    "canvas.add_sub_plot(time)"
   ]
  },
  {
   "cell_type": "code",
   "execution_count": null,
   "id": "ccbc1a75",
   "metadata": {},
   "outputs": [],
   "source": [
    "# adding the total\n",
    "t = Total.total(canvas=canvas, df=df, x_pos=1115, y_pos=130, height=700, width=200, font_color = FONT_COLOR, prefix = \" \", unit = \" \" )\n",
    "canvas.add_sub_plot(t)"
   ]
  },
  {
   "cell_type": "code",
   "execution_count": null,
   "id": "2a6700a8",
   "metadata": {},
   "outputs": [],
   "source": [
    "# adding a title\n",
    "title = StaticText.static_text(canvas=canvas.canvas, text=\"Pineapples from Africa\", x_pos=900, y_pos=50, height=60, width=0, font_color=FONT_COLOR)\n",
    "canvas.add_sub_plot(title)"
   ]
  },
  {
   "cell_type": "code",
   "execution_count": null,
   "id": "55386574",
   "metadata": {},
   "outputs": [],
   "source": [
    "# adding a sub title\n",
    "sub_title = StaticText.static_text(canvas=canvas.canvas, text=\"Production in Tonnes\", x_pos=870, y_pos=115, height=30, width=0, font_color=FONT_COLOR)\n",
    "canvas.add_sub_plot(sub_title)"
   ]
  },
  {
   "cell_type": "code",
   "execution_count": null,
   "id": "965aa763",
   "metadata": {},
   "outputs": [],
   "source": [
    "# adding a layer bar to the canvas\n",
    "img = StaticImage.static_image(canvas=canvas.canvas, file=\"assets/Africa.png\",x_pos=1115, y_pos=615, height=120, width=120,root=canvas.tk,on_top=True)\n",
    "canvas.add_sub_plot(img)"
   ]
  },
  {
   "cell_type": "code",
   "execution_count": null,
   "id": "07fe334d",
   "metadata": {},
   "outputs": [],
   "source": [
    "# adding a layer bar to the canvas\n",
    "img = StaticImage.static_image(canvas=canvas.canvas, file=\"assets/Icon.png\",x_pos=1182, y_pos=1021, height=35, width=35,root=canvas.tk,on_top=False)\n",
    "canvas.add_sub_plot(img)"
   ]
  },
  {
   "cell_type": "code",
   "execution_count": null,
   "id": "4b2e7e4d",
   "metadata": {},
   "outputs": [],
   "source": [
    "# adding a layer bar to the canvas\n",
    "img = StaticImage.static_image(canvas=canvas.canvas, file=\"assets/Pineapples.png\",x_pos=405, y_pos=5, height=1100, width=1000,root=canvas.tk,on_top=False)\n",
    "canvas.add_sub_plot(img)"
   ]
  },
  {
   "cell_type": "code",
   "execution_count": null,
   "id": "920f5f24",
   "metadata": {},
   "outputs": [],
   "source": [
    "# adding a sub title\n",
    "sub_title = StaticText.static_text(canvas=canvas.canvas, text=\"Aniekpong          SJvisualizer\", x_pos=1200, y_pos=1020, height=30, width=0, font_color=FONT_COLOR)\n",
    "canvas.add_sub_plot(sub_title)"
   ]
  },
  {
   "cell_type": "code",
   "execution_count": null,
   "id": "fc24e0f0",
   "metadata": {},
   "outputs": [],
   "source": [
    "# adding a sub title\n",
    "sub_title = StaticText.static_text(canvas=canvas.canvas, text=\"Data Source: Faostat\", x_pos=609, y_pos=1020, height=30, width=0, font_color=FONT_COLOR)\n",
    "canvas.add_sub_plot(sub_title)"
   ]
  },
  {
   "cell_type": "code",
   "execution_count": null,
   "id": "3b91ea0f",
   "metadata": {},
   "outputs": [],
   "source": [
    "# starting the animation\n",
    "canvas.play(fps=FPS)"
   ]
  }
 ],
 "metadata": {
  "kernelspec": {
   "display_name": "Python 3 (ipykernel)",
   "language": "python",
   "name": "python3"
  },
  "language_info": {
   "codemirror_mode": {
    "name": "ipython",
    "version": 3
   },
   "file_extension": ".py",
   "mimetype": "text/x-python",
   "name": "python",
   "nbconvert_exporter": "python",
   "pygments_lexer": "ipython3",
   "version": "3.11.3"
  }
 },
 "nbformat": 4,
 "nbformat_minor": 5
}
