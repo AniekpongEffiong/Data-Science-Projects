{
 "cells": [
  {
   "cell_type": "code",
   "execution_count": null,
   "id": "316ebf7c",
   "metadata": {},
   "outputs": [],
   "source": [
    "# importing all modules\n",
    "from sjvisualizer import DataHandler\n",
    "from sjvisualizer import Canvas\n",
    "from sjvisualizer import BarRace, ReBarRace\n",
    "from sjvisualizer import PieRace, UpdatedPieRace\n",
    "from sjvisualizer import StackedBarChart, UpdatedStackedBarChart\n",
    "from sjvisualizer import StaticText\n",
    "from sjvisualizer import Date\n",
    "from sjvisualizer import StaticImage\n",
    "from sjvisualizer import Legend, UpdatedLegend\n",
    "from sjvisualizer import Total\n",
    "import json"
   ]
  },
  {
   "cell_type": "code",
   "execution_count": null,
   "id": "4772b9ed",
   "metadata": {},
   "outputs": [],
   "source": [
    "# define constants\n",
    "FPS = 80\n",
    "DURATION = 0.55\n",
    "BACKGROUND_COLOR = (250,250,250)\n",
    "BAR_COLOR = (42,48,60)\n",
    "NEW_COLOR = (255,255,255)\n",
    "FONT_COLOR = (46,46,56)\n",
    "PIE_COLOR = (250,248,248)\n",
    "BASE_COLOR = (109,111,113)\n",
    "TOTAL_COLOR = (7,0,4)"
   ]
  },
  {
   "cell_type": "code",
   "execution_count": null,
   "id": "d6393c31",
   "metadata": {},
   "outputs": [],
   "source": [
    "# load the data from the excel file\n",
    "df = DataHandler.DataHandler(excel_file=\"data/Deloitte.xlsx\", number_of_frames=FPS*DURATION*80).df"
   ]
  },
  {
   "cell_type": "code",
   "execution_count": null,
   "id": "79cfe144",
   "metadata": {},
   "outputs": [],
   "source": [
    "# loading colors\n",
    "with open(\"colors.json\") as f:\n",
    "    colors = json.load(f)"
   ]
  },
  {
   "cell_type": "code",
   "execution_count": null,
   "id": "80692dff",
   "metadata": {},
   "outputs": [],
   "source": [
    "# creating the canvas to which we want to draw all elements\n",
    "canvas = Canvas.canvas(bg=BACKGROUND_COLOR)"
   ]
  },
  {
   "cell_type": "code",
   "execution_count": null,
   "id": "0aa82b6a",
   "metadata": {},
   "outputs": [],
   "source": [
    "# drawing a rectangle arround working area\n",
    "canvas.canvas.create_rectangle(-1,-1,1441,1441)"
   ]
  },
  {
   "cell_type": "code",
   "execution_count": null,
   "id": "fedc879a",
   "metadata": {},
   "outputs": [],
   "source": [
    "# creating the pie race\n",
    "pie_race = UpdatedPieRace.pie_plot(canvas=canvas.canvas, df=df, colors=colors, width=950, height=450, x_pos=550, y_pos=255, decimal_places=0, back_ground_color=BACKGROUND_COLOR, font_color=BACKGROUND_COLOR)\n",
    "canvas.add_sub_plot(pie_race)"
   ]
  },
  {
   "cell_type": "code",
   "execution_count": null,
   "id": "5df3f61d",
   "metadata": {},
   "outputs": [],
   "source": [
    "# adding an additional chart type\n",
    "bar_race = ReBarRace.bar_race(canvas=canvas.canvas, df=df, colors=colors, width=550, height=290, x_pos=630, y_pos=720, decimal_places=2, prefix = \"$ \", unit = \"$ Billion\", shift=700, font_color=BASE_COLOR, number_of_bars=5)\n",
    "canvas.add_sub_plot(bar_race)"
   ]
  },
  {
   "cell_type": "code",
   "execution_count": null,
   "id": "c5252b8b",
   "metadata": {},
   "outputs": [],
   "source": [
    "# creating the stacked bar chart\n",
    "stacked = StackedBarChart.stacked_bar_chart(canvas=canvas.canvas, df=df, colors=colors, x_pos=1140, y_pos=900, width=150, height=90, font_size =0, font_color=BASE_COLOR, number_of_bars=5)\n",
    "canvas.add_sub_plot(stacked)"
   ]
  },
  {
   "cell_type": "code",
   "execution_count": null,
   "id": "6a900a40",
   "metadata": {},
   "outputs": [],
   "source": [
    "legend = UpdatedLegend.legend(canvas=canvas.canvas, df=df, colors=colors, width=390, height=250, x_pos=580, y_pos=350, n=5, font_size=13, font_color=BASE_COLOR)\n",
    "canvas.add_sub_plot(legend)"
   ]
  },
  {
   "cell_type": "code",
   "execution_count": null,
   "id": "5ba6e010",
   "metadata": {},
   "outputs": [],
   "source": [
    "# adding the total\n",
    "t = Total.total(canvas=canvas, df=df, x_pos=670, y_pos=300, height=1000, width=200, decimal_places=2, font_color = TOTAL_COLOR, prefix = \"$\", unit = \" Billion\" )\n",
    "canvas.add_sub_plot(t)"
   ]
  },
  {
   "cell_type": "code",
   "execution_count": null,
   "id": "f0332a2e",
   "metadata": {},
   "outputs": [],
   "source": [
    "# adding a time indication\n",
    "time = Date.date(df=df, canvas=canvas.canvas, time_indicator=\"year\", x_pos=1090, y_pos=455, height=60, width=0, anchor=\"e\", font_color=TOTAL_COLOR)\n",
    "canvas.add_sub_plot(time)"
   ]
  },
  {
   "cell_type": "code",
   "execution_count": null,
   "id": "89f279e0",
   "metadata": {},
   "outputs": [],
   "source": [
    "# adding a layer bar to the canvas\n",
    "img = StaticImage.static_image(canvas=canvas.canvas, file=\"assets/Deloitte.png\",x_pos=290, y_pos=10, height=1060, width=1150,root=canvas.tk,on_top=False)\n",
    "canvas.add_sub_plot(img)"
   ]
  },
  {
   "cell_type": "code",
   "execution_count": null,
   "id": "73e9a401",
   "metadata": {},
   "outputs": [],
   "source": [
    "canvas.play(fps=FPS)"
   ]
  }
 ],
 "metadata": {
  "kernelspec": {
   "display_name": "Python 3 (ipykernel)",
   "language": "python",
   "name": "python3"
  },
  "language_info": {
   "codemirror_mode": {
    "name": "ipython",
    "version": 3
   },
   "file_extension": ".py",
   "mimetype": "text/x-python",
   "name": "python",
   "nbconvert_exporter": "python",
   "pygments_lexer": "ipython3",
   "version": "3.11.3"
  }
 },
 "nbformat": 4,
 "nbformat_minor": 5
}
