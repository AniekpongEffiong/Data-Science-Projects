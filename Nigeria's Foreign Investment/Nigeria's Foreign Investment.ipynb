{
 "cells": [
  {
   "cell_type": "code",
   "execution_count": null,
   "id": "1f425cc3",
   "metadata": {},
   "outputs": [],
   "source": [
    "# importing all modules\n",
    "from sjvisualizer import DataHandler\n",
    "from sjvisualizer import Canvas\n",
    "from sjvisualizer import StackedBarChart\n",
    "from sjvisualizer import LineChart\n",
    "from sjvisualizer import PieRace\n",
    "from sjvisualizer import StaticText\n",
    "from sjvisualizer import Date\n",
    "from sjvisualizer import Total\n",
    "from sjvisualizer import StaticImage\n",
    "import json"
   ]
  },
  {
   "cell_type": "code",
   "execution_count": null,
   "id": "7ffa293e",
   "metadata": {},
   "outputs": [],
   "source": [
    "# define constants\n",
    "FPS = 70\n",
    "DURATION = 0.25\n",
    "BACKGROUND_COLOR = (250, 252, 249)\n",
    "TOTAL_COLOR = (120,130,156)\n",
    "FONT_COLOR = (92,90,90)\n",
    "BAR_COLOR = (255,255,255)\n",
    "STACK_COLOR = (16,210,207)\n",
    "YEAR_COLOR = (28, 164, 227)\n",
    "GREY_COLOR = (163, 167, 181)\n",
    "number_of_frames=FPS*DURATION*70"
   ]
  },
  {
   "cell_type": "code",
   "execution_count": null,
   "id": "4c73577a",
   "metadata": {},
   "outputs": [],
   "source": [
    "# load the data from the excel file\n",
    "df = DataHandler.DataHandler(excel_file=\"data/Quarter.xlsx\", number_of_frames=number_of_frames).df"
   ]
  },
  {
   "cell_type": "code",
   "execution_count": null,
   "id": "9f7e2898",
   "metadata": {},
   "outputs": [],
   "source": [
    "# load the data from the excel file\n",
    "df2 = DataHandler.DataHandler(excel_file=\"data/Lagos.xlsx\", number_of_frames=number_of_frames).df"
   ]
  },
  {
   "cell_type": "code",
   "execution_count": null,
   "id": "e7b9bbec",
   "metadata": {},
   "outputs": [],
   "source": [
    "# load the data from the excel file\n",
    "df3 = DataHandler.DataHandler(excel_file=\"data/FCT.xlsx\", number_of_frames=number_of_frames).df"
   ]
  },
  {
   "cell_type": "code",
   "execution_count": null,
   "id": "faa99438",
   "metadata": {},
   "outputs": [],
   "source": [
    "# load the data from the excel file\n",
    "df4 = DataHandler.DataHandler(excel_file=\"data/Akwa Ibom.xlsx\", number_of_frames=number_of_frames).df"
   ]
  },
  {
   "cell_type": "code",
   "execution_count": null,
   "id": "ea3b76b3",
   "metadata": {},
   "outputs": [],
   "source": [
    "# load the data from the excel file\n",
    "df5 = DataHandler.DataHandler(excel_file=\"data/Ogun.xlsx\", number_of_frames=number_of_frames).df"
   ]
  },
  {
   "cell_type": "code",
   "execution_count": null,
   "id": "5cf967c7",
   "metadata": {},
   "outputs": [],
   "source": [
    "# load the data from the excel file\n",
    "df6 = DataHandler.DataHandler(excel_file=\"data/Adamawa.xlsx\", number_of_frames=number_of_frames).df"
   ]
  },
  {
   "cell_type": "code",
   "execution_count": null,
   "id": "8c38e495",
   "metadata": {},
   "outputs": [],
   "source": [
    "# load the data from the excel file\n",
    "df7 = DataHandler.DataHandler(excel_file=\"data/Anambra.xlsx\", number_of_frames=number_of_frames).df"
   ]
  },
  {
   "cell_type": "code",
   "execution_count": null,
   "id": "1ee93ef5",
   "metadata": {},
   "outputs": [],
   "source": [
    "# load the data from the excel file\n",
    "df8 = DataHandler.DataHandler(excel_file=\"data/Niger.xlsx\", number_of_frames=number_of_frames).df"
   ]
  },
  {
   "cell_type": "code",
   "execution_count": null,
   "id": "ead60fcd",
   "metadata": {},
   "outputs": [],
   "source": [
    "# load the data from the excel file\n",
    "df9 = DataHandler.DataHandler(excel_file=\"data/Ondo.xlsx\", number_of_frames=number_of_frames).df"
   ]
  },
  {
   "cell_type": "code",
   "execution_count": null,
   "id": "9bfa2187",
   "metadata": {},
   "outputs": [],
   "source": [
    "# load the data from the excel file\n",
    "df10 = DataHandler.DataHandler(excel_file=\"data/Ekiti.xlsx\", number_of_frames=number_of_frames).df"
   ]
  },
  {
   "cell_type": "code",
   "execution_count": null,
   "id": "d7c45bbb",
   "metadata": {},
   "outputs": [],
   "source": [
    "# load the data from the excel file\n",
    "df11 = DataHandler.DataHandler(excel_file=\"data/SouthWest.xlsx\", number_of_frames=number_of_frames).df"
   ]
  },
  {
   "cell_type": "code",
   "execution_count": null,
   "id": "d2bd578c",
   "metadata": {},
   "outputs": [],
   "source": [
    "# load the data from the excel file\n",
    "df12 = DataHandler.DataHandler(excel_file=\"data/NorthCentral.xlsx\", number_of_frames=number_of_frames).df"
   ]
  },
  {
   "cell_type": "code",
   "execution_count": null,
   "id": "8ea06b34",
   "metadata": {},
   "outputs": [],
   "source": [
    "# load the data from the excel file\n",
    "df13 = DataHandler.DataHandler(excel_file=\"data/SouthSouth.xlsx\", number_of_frames=number_of_frames).df"
   ]
  },
  {
   "cell_type": "code",
   "execution_count": null,
   "id": "6959c98c",
   "metadata": {},
   "outputs": [],
   "source": [
    "# load the data from the excel file\n",
    "df14 = DataHandler.DataHandler(excel_file=\"data/NorthEast.xlsx\", number_of_frames=number_of_frames).df"
   ]
  },
  {
   "cell_type": "code",
   "execution_count": null,
   "id": "024a416e",
   "metadata": {},
   "outputs": [],
   "source": [
    "# load the data from the excel file\n",
    "df15 = DataHandler.DataHandler(excel_file=\"data/SouthEast.xlsx\", number_of_frames=number_of_frames).df"
   ]
  },
  {
   "cell_type": "code",
   "execution_count": null,
   "id": "3773caee",
   "metadata": {},
   "outputs": [],
   "source": [
    "# load the data from the excel file\n",
    "df16 = DataHandler.DataHandler(excel_file=\"data/Cumulative.xlsx\", number_of_frames=number_of_frames).df"
   ]
  },
  {
   "cell_type": "code",
   "execution_count": null,
   "id": "9da995b7",
   "metadata": {},
   "outputs": [],
   "source": [
    "# load the data from the excel file\n",
    "df17 = DataHandler.DataHandler(excel_file=\"data/Investment.xlsx\", number_of_frames=number_of_frames).df"
   ]
  },
  {
   "cell_type": "code",
   "execution_count": null,
   "id": "829b7a1e",
   "metadata": {},
   "outputs": [],
   "source": [
    "# loading colors\n",
    "with open(\"colors.json\") as f:\n",
    "    colors = json.load(f)"
   ]
  },
  {
   "cell_type": "code",
   "execution_count": null,
   "id": "7cd051a2",
   "metadata": {},
   "outputs": [],
   "source": [
    "# creating the canvas to which we want to draw all elements\n",
    "canvas = Canvas.canvas(bg=BACKGROUND_COLOR)"
   ]
  },
  {
   "cell_type": "code",
   "execution_count": null,
   "id": "6abd6596",
   "metadata": {},
   "outputs": [],
   "source": [
    "# drawing a rectangle around working area\n",
    "canvas.canvas.create_rectangle(-1,-1,1771,1771)"
   ]
  },
  {
   "cell_type": "code",
   "execution_count": null,
   "id": "d21246f2",
   "metadata": {},
   "outputs": [],
   "source": [
    "# creating the stacked bar chart\n",
    "stacked = StackedBarChart.stacked_bar_chart(canvas=canvas.canvas, df=df17, x_pos=1163, y_pos=575, width=100, font_size=0, height=80, font_color=BACKGROUND_COLOR, number_of_bars=6.5,root=canvas.tk,on_top=False)\n",
    "canvas.add_sub_plot(stacked)"
   ]
  },
  {
   "cell_type": "code",
   "execution_count": null,
   "id": "3358d275",
   "metadata": {},
   "outputs": [],
   "source": [
    "# adding the time indication\n",
    "time = Date.date(df=df, canvas=canvas.canvas, time_indicator=\"month\", x_pos=1214, y_pos=962, height=42, width=0, font_color=YEAR_COLOR)\n",
    "canvas.add_sub_plot(time)"
   ]
  },
  {
   "cell_type": "code",
   "execution_count": null,
   "id": "640d7a64",
   "metadata": {},
   "outputs": [],
   "source": [
    "# adding the total\n",
    "TotalQ = Total.total(canvas=canvas, df=df, x_pos=1277, y_pos=214, height=700, width=200, decimal_places = 2, font_color = FONT_COLOR, prefix = \"$\", unit = \"m\" )\n",
    "canvas.add_sub_plot(TotalQ)"
   ]
  },
  {
   "cell_type": "code",
   "execution_count": null,
   "id": "ccbc1a75",
   "metadata": {},
   "outputs": [],
   "source": [
    "# adding the total\n",
    "Lagos = Total.total(canvas=canvas, df=df2, x_pos=600, y_pos=735, height=650, width=200, decimal_places = 2, font_color = YEAR_COLOR, prefix = \"$\", unit = \"m\" )\n",
    "canvas.add_sub_plot(Lagos)"
   ]
  },
  {
   "cell_type": "code",
   "execution_count": null,
   "id": "e7fe28e2",
   "metadata": {},
   "outputs": [],
   "source": [
    "# adding the total\n",
    "FCT = Total.total(canvas=canvas, df=df3, x_pos=950, y_pos=489, height=650, width=200, decimal_places = 2, font_color = YEAR_COLOR, prefix = \"$\", unit = \"m\" )\n",
    "canvas.add_sub_plot(FCT)"
   ]
  },
  {
   "cell_type": "code",
   "execution_count": null,
   "id": "dfa67a9b",
   "metadata": {},
   "outputs": [],
   "source": [
    "# adding the total\n",
    "AkwaIbom = Total.total(canvas=canvas, df=df4, x_pos=999, y_pos=775, height=650, width=200, decimal_places = 2, font_color = YEAR_COLOR, prefix = \"$\", unit = \"m\" )\n",
    "canvas.add_sub_plot(AkwaIbom)"
   ]
  },
  {
   "cell_type": "code",
   "execution_count": null,
   "id": "e9a34529",
   "metadata": {},
   "outputs": [],
   "source": [
    "# adding the total\n",
    "Ogun = Total.total(canvas=canvas, df=df5, x_pos=700, y_pos=565, height=650, width=200, decimal_places = 2, font_color = YEAR_COLOR, prefix = \"$\", unit = \"m\" )\n",
    "canvas.add_sub_plot(Ogun)"
   ]
  },
  {
   "cell_type": "code",
   "execution_count": null,
   "id": "c21f44b0",
   "metadata": {},
   "outputs": [],
   "source": [
    "# adding the total\n",
    "Adamawa = Total.total(canvas=canvas, df=df6, x_pos=1100, y_pos=365, height=650, width=200, decimal_places = 2, font_color = YEAR_COLOR, prefix = \"$\", unit = \"m\" )\n",
    "canvas.add_sub_plot(Adamawa)"
   ]
  },
  {
   "cell_type": "code",
   "execution_count": null,
   "id": "623a4292",
   "metadata": {},
   "outputs": [],
   "source": [
    "# adding the total\n",
    "Anambra = Total.total(canvas=canvas, df=df7, x_pos=940, y_pos=659, height=650, width=200, decimal_places = 2, font_color = YEAR_COLOR, prefix = \"$\", unit = \"m\" )\n",
    "canvas.add_sub_plot(Anambra)"
   ]
  },
  {
   "cell_type": "code",
   "execution_count": null,
   "id": "06c2a443",
   "metadata": {},
   "outputs": [],
   "source": [
    "# adding the total\n",
    "Niger = Total.total(canvas=canvas, df=df8, x_pos=810, y_pos=365, height=650, width=200, decimal_places = 2, font_color = YEAR_COLOR, prefix = \"$\", unit = \"m\" )\n",
    "canvas.add_sub_plot(Niger)"
   ]
  },
  {
   "cell_type": "code",
   "execution_count": null,
   "id": "1886cf73",
   "metadata": {},
   "outputs": [],
   "source": [
    "# adding the total\n",
    "Ondo = Total.total(canvas=canvas, df=df9, x_pos=745, y_pos=755, height=650, width=200, decimal_places = 2, font_color = YEAR_COLOR, prefix = \"$\", unit = \"m\" )\n",
    "canvas.add_sub_plot(Ondo)"
   ]
  },
  {
   "cell_type": "code",
   "execution_count": null,
   "id": "13165036",
   "metadata": {},
   "outputs": [],
   "source": [
    "# adding the total\n",
    "Ekiti = Total.total(canvas=canvas, df=df10, x_pos=830, y_pos=617, height=650, width=200, decimal_places = 2, font_color = YEAR_COLOR, prefix = \"$\", unit = \"m\" )\n",
    "canvas.add_sub_plot(Ekiti)"
   ]
  },
  {
   "cell_type": "code",
   "execution_count": null,
   "id": "5c5dd5ce",
   "metadata": {},
   "outputs": [],
   "source": [
    "# adding the total\n",
    "SouthWest = Total.total(canvas=canvas, df=df11, x_pos=770, y_pos=833, height=500, width=200, decimal_places = 2, font_color = FONT_COLOR, prefix = \"$\", unit = \"m\" )\n",
    "canvas.add_sub_plot(SouthWest)"
   ]
  },
  {
   "cell_type": "code",
   "execution_count": null,
   "id": "180b9c83",
   "metadata": {},
   "outputs": [],
   "source": [
    "# adding the total\n",
    "NorthCentral = Total.total(canvas=canvas, df=df12, x_pos=1068, y_pos=833, height=500, width=200, decimal_places = 2, font_color = FONT_COLOR, prefix = \"$\", unit = \"m\" )\n",
    "canvas.add_sub_plot(NorthCentral)"
   ]
  },
  {
   "cell_type": "code",
   "execution_count": null,
   "id": "65cac3c9",
   "metadata": {},
   "outputs": [],
   "source": [
    "# adding the total\n",
    "SouthSouth = Total.total(canvas=canvas, df=df13, x_pos=1345, y_pos=833, height=500, width=200, decimal_places = 2, font_color = FONT_COLOR, prefix = \"$\", unit = \"m\" )\n",
    "canvas.add_sub_plot(SouthSouth)"
   ]
  },
  {
   "cell_type": "code",
   "execution_count": null,
   "id": "7f317026",
   "metadata": {},
   "outputs": [],
   "source": [
    "# adding the total\n",
    "NorthEast = Total.total(canvas=canvas, df=df14, x_pos=760, y_pos=880, height=500, width=200, decimal_places = 2, font_color = FONT_COLOR, prefix = \"$\", unit = \"m\" )\n",
    "canvas.add_sub_plot(NorthEast)"
   ]
  },
  {
   "cell_type": "code",
   "execution_count": null,
   "id": "49163cd0",
   "metadata": {},
   "outputs": [],
   "source": [
    "# adding the total\n",
    "SouthEast = Total.total(canvas=canvas, df=df15, x_pos=1040, y_pos=883, height=500, width=200, decimal_places = 2, font_color = FONT_COLOR, prefix = \"$\", unit = \"m\" )\n",
    "canvas.add_sub_plot(SouthEast)"
   ]
  },
  {
   "cell_type": "code",
   "execution_count": null,
   "id": "bc603878",
   "metadata": {},
   "outputs": [],
   "source": [
    "# adding the total\n",
    "Cumulative = Total.total(canvas=canvas, df=df16, x_pos=860, y_pos=214, height=700, width=200, decimal_places = 2, font_color = FONT_COLOR, prefix = \"$\", unit = \"m\" )\n",
    "canvas.add_sub_plot(Cumulative)"
   ]
  },
  {
   "cell_type": "code",
   "execution_count": null,
   "id": "4b2e7e4d",
   "metadata": {},
   "outputs": [],
   "source": [
    "# adding a layer bar to the canvas\n",
    "img = StaticImage.static_image(canvas=canvas.canvas, file=\"assets/Nigeria.png\",x_pos=405, y_pos=5, height=1065, width=1050,root=canvas.tk,on_top=False)\n",
    "canvas.add_sub_plot(img)"
   ]
  },
  {
   "cell_type": "code",
   "execution_count": null,
   "id": "3b91ea0f",
   "metadata": {},
   "outputs": [],
   "source": [
    "# starting the animation\n",
    "canvas.play(fps=FPS)"
   ]
  }
 ],
 "metadata": {
  "kernelspec": {
   "display_name": "Python 3 (ipykernel)",
   "language": "python",
   "name": "python3"
  },
  "language_info": {
   "codemirror_mode": {
    "name": "ipython",
    "version": 3
   },
   "file_extension": ".py",
   "mimetype": "text/x-python",
   "name": "python",
   "nbconvert_exporter": "python",
   "pygments_lexer": "ipython3",
   "version": "3.11.3"
  }
 },
 "nbformat": 4,
 "nbformat_minor": 5
}
