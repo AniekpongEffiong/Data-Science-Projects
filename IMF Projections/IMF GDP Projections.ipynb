{
 "cells": [
  {
   "cell_type": "code",
   "execution_count": null,
   "id": "1f425cc3",
   "metadata": {},
   "outputs": [],
   "source": [
    "# importing all modules\n",
    "from sjvisualizer import DataHandler\n",
    "from sjvisualizer import Canvas\n",
    "from sjvisualizer import StackedBarChart\n",
    "from sjvisualizer import BarRace\n",
    "from sjvisualizer import Legend\n",
    "from sjvisualizer import StaticText\n",
    "from sjvisualizer import Date\n",
    "from sjvisualizer import Average\n",
    "from sjvisualizer import StaticImage\n",
    "import json"
   ]
  },
  {
   "cell_type": "code",
   "execution_count": null,
   "id": "7ffa293e",
   "metadata": {},
   "outputs": [],
   "source": [
    "# define constants\n",
    "FPS = 60\n",
    "DURATION = 0.25\n",
    "BACKGROUND_COLOR = (250, 252, 249)\n",
    "TOTAL_COLOR = (6,37,93)\n",
    "FONT_COLOR = (14,45,101)\n",
    "BAR_COLOR = (255,255,255)\n",
    "STACK_COLOR = (250,252,249)\n",
    "PIE_COLOR = (247, 245, 232)\n",
    "GREY_COLOR = (163, 167, 181)"
   ]
  },
  {
   "cell_type": "code",
   "execution_count": null,
   "id": "e9d16cf4",
   "metadata": {},
   "outputs": [],
   "source": [
    "# load the data from the excel file\n",
    "df = DataHandler.DataHandler(excel_file=\"data/IMF.xlsx\", number_of_frames=FPS*DURATION*60).df"
   ]
  },
  {
   "cell_type": "code",
   "execution_count": null,
   "id": "829b7a1e",
   "metadata": {},
   "outputs": [],
   "source": [
    "# loading colors\n",
    "with open(\"colors.json\") as f:\n",
    "    colors = json.load(f)"
   ]
  },
  {
   "cell_type": "code",
   "execution_count": null,
   "id": "7cd051a2",
   "metadata": {},
   "outputs": [],
   "source": [
    "# creating the canvas to which we want to draw all elements\n",
    "canvas = Canvas.canvas(bg=BACKGROUND_COLOR)"
   ]
  },
  {
   "cell_type": "code",
   "execution_count": null,
   "id": "6abd6596",
   "metadata": {},
   "outputs": [],
   "source": [
    "# drawing a rectangle around working area\n",
    "canvas.canvas.create_rectangle(-1,-1,1771,1771)"
   ]
  },
  {
   "cell_type": "code",
   "execution_count": null,
   "id": "2cbd7c21",
   "metadata": {
    "scrolled": true
   },
   "outputs": [],
   "source": [
    "# creating the bar race\n",
    "bar_race = BarRace.bar_race(canvas=canvas.canvas, df=df, colors=colors, decimal_places = 1, unit = \"% \", width=710, height=790, x_pos=599, y_pos=238, shift=900, font_color=TOTAL_COLOR, number_of_bars=15)\n",
    "canvas.add_sub_plot(bar_race)"
   ]
  },
  {
   "cell_type": "code",
   "execution_count": null,
   "id": "dd4e8dd3",
   "metadata": {},
   "outputs": [],
   "source": [
    "# creating the stacked bar chart\n",
    "stacked = StackedBarChart.stacked_bar_chart(canvas=canvas.canvas, df=df, x_pos=1245, y_pos=770, width=100, height=100, font_color=STACK_COLOR, number_of_bars=5,root=canvas.tk,on_top=False)\n",
    "canvas.add_sub_plot(stacked)"
   ]
  },
  {
   "cell_type": "code",
   "execution_count": null,
   "id": "3358d275",
   "metadata": {},
   "outputs": [],
   "source": [
    "# adding the time indication\n",
    "time = Date.date(df=df, canvas=canvas.canvas, time_indicator=\"year\", x_pos=1290, y_pos=885, height=70, width=0, font_color=TOTAL_COLOR)\n",
    "canvas.add_sub_plot(time)"
   ]
  },
  {
   "cell_type": "code",
   "execution_count": null,
   "id": "fb622a8d",
   "metadata": {},
   "outputs": [],
   "source": [
    "# adding the total\n",
    "avg = Average.average(canvas=canvas, df=df, x_pos=1170, y_pos=850, height=700, width=200, decimal_places = 1, font_size = 35, font_color = TOTAL_COLOR, prefix = \" \", unit = \"% \" )\n",
    "canvas.add_sub_plot(avg)"
   ]
  },
  {
   "cell_type": "code",
   "execution_count": null,
   "id": "4b2e7e4d",
   "metadata": {},
   "outputs": [],
   "source": [
    "# adding a layer bar to the canvas\n",
    "img = StaticImage.static_image(canvas=canvas.canvas, file=\"assets/IMFF.png\",x_pos=405, y_pos=5, height=1070, width=1150,root=canvas.tk,on_top=False)\n",
    "canvas.add_sub_plot(img)"
   ]
  },
  {
   "cell_type": "code",
   "execution_count": null,
   "id": "3b91ea0f",
   "metadata": {},
   "outputs": [],
   "source": [
    "# starting the animation\n",
    "canvas.play(fps=FPS)"
   ]
  }
 ],
 "metadata": {
  "kernelspec": {
   "display_name": "Python 3 (ipykernel)",
   "language": "python",
   "name": "python3"
  },
  "language_info": {
   "codemirror_mode": {
    "name": "ipython",
    "version": 3
   },
   "file_extension": ".py",
   "mimetype": "text/x-python",
   "name": "python",
   "nbconvert_exporter": "python",
   "pygments_lexer": "ipython3",
   "version": "3.11.3"
  }
 },
 "nbformat": 4,
 "nbformat_minor": 5
}
